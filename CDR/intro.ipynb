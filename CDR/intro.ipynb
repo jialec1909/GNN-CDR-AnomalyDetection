{
  "cells": [
    {
      "cell_type": "markdown",
      "metadata": {},
      "source": [
        "\n",
        "# Detector Example\n",
        "\n",
        "In this tutorial, you will learn the basic workflow of\n",
        "PyGOD with an example of DOMINANT. This tutorial assumes that\n",
        "you have basic familiarity with PyTorch and PyTorch Geometric (PyG).\n",
        "\n",
        "(Time estimate: 5 minutes)\n"
      ]
    },
    {
      "cell_type": "markdown",
      "metadata": {},
      "source": [
        "## Data Loading\n",
        "PyGOD use ``torch_geometric.data.Data`` to handle the data. Here, we\n",
        "use Cora, a PyG built-in dataset, as an example. To load your own\n",
        "dataset into PyGOD, you can refer to [creating your own datasets\n",
        "tutorial](https://pytorch-geometric.readthedocs.io/en/latest/notes\n",
        "/create_dataset.html)_ in PyG.\n",
        "\n"
      ]
    },
    {
      "cell_type": "code",
      "execution_count": 10,
      "metadata": {
        "collapsed": false
      },
      "outputs": [],
      "source": [
        "import torch_geometric.transforms as T\n",
        "from torch_geometric.datasets import Planetoid\n",
        "\n",
        "data = Planetoid('./data/Cora', 'Cora', transform=T.NormalizeFeatures())[0]"
      ]
    },
    {
      "cell_type": "markdown",
      "metadata": {},
      "source": [
        "Because there is no ground truth label of outliers in Cora, we follow\n",
        "the method used by DOMINANT to inject 100 contextual outliers and 100\n",
        "structure outliers into the graph. Note: If your dataset already\n",
        "contains the outliers you want to detect, you don't have to inject\n",
        "more outliers.\n",
        "\n"
      ]
    },
    {
      "cell_type": "code",
      "execution_count": 11,
      "metadata": {
        "collapsed": false
      },
      "outputs": [
        {
          "ename": "AttributeError",
          "evalue": "partially initialized module 'charset_normalizer' has no attribute 'md__mypyc' (most likely due to a circular import)",
          "output_type": "error",
          "traceback": [
            "\u001b[0;31m---------------------------------------------------------------------------\u001b[0m",
            "\u001b[0;31mAttributeError\u001b[0m                            Traceback (most recent call last)",
            "Cell \u001b[0;32mIn[11], line 2\u001b[0m\n\u001b[1;32m      1\u001b[0m \u001b[39mimport\u001b[39;00m \u001b[39mtorch\u001b[39;00m\n\u001b[0;32m----> 2\u001b[0m \u001b[39mfrom\u001b[39;00m \u001b[39mpygod\u001b[39;00m\u001b[39m.\u001b[39;00m\u001b[39mgenerator\u001b[39;00m \u001b[39mimport\u001b[39;00m gen_contextual_outlier, gen_structural_outlier\n\u001b[1;32m      4\u001b[0m data, ya \u001b[39m=\u001b[39m gen_contextual_outlier(data, n\u001b[39m=\u001b[39m\u001b[39m100\u001b[39m, k\u001b[39m=\u001b[39m\u001b[39m50\u001b[39m)\n\u001b[1;32m      5\u001b[0m data, ys \u001b[39m=\u001b[39m gen_structural_outlier(data, m\u001b[39m=\u001b[39m\u001b[39m10\u001b[39m, n\u001b[39m=\u001b[39m\u001b[39m10\u001b[39m)\n",
            "File \u001b[0;32m~/miniconda3/envs/gnn/lib/python3.10/site-packages/pygod/__init__.py:1\u001b[0m\n\u001b[0;32m----> 1\u001b[0m \u001b[39mfrom\u001b[39;00m \u001b[39m.\u001b[39;00m \u001b[39mimport\u001b[39;00m detector\n\u001b[1;32m      2\u001b[0m \u001b[39mfrom\u001b[39;00m \u001b[39m.\u001b[39;00m \u001b[39mimport\u001b[39;00m utils\n\u001b[1;32m      3\u001b[0m \u001b[39mfrom\u001b[39;00m \u001b[39m.\u001b[39;00m\u001b[39mversion\u001b[39;00m \u001b[39mimport\u001b[39;00m __version__\n",
            "File \u001b[0;32m~/miniconda3/envs/gnn/lib/python3.10/site-packages/pygod/detector/__init__.py:1\u001b[0m\n\u001b[0;32m----> 1\u001b[0m \u001b[39mfrom\u001b[39;00m \u001b[39m.\u001b[39;00m\u001b[39mbase\u001b[39;00m \u001b[39mimport\u001b[39;00m Detector\n\u001b[1;32m      2\u001b[0m \u001b[39mfrom\u001b[39;00m \u001b[39m.\u001b[39;00m\u001b[39mbase\u001b[39;00m \u001b[39mimport\u001b[39;00m DeepDetector\n\u001b[1;32m      4\u001b[0m \u001b[39mfrom\u001b[39;00m \u001b[39m.\u001b[39;00m\u001b[39madone\u001b[39;00m \u001b[39mimport\u001b[39;00m AdONE\n",
            "File \u001b[0;32m~/miniconda3/envs/gnn/lib/python3.10/site-packages/pygod/detector/base.py:19\u001b[0m\n\u001b[1;32m     16\u001b[0m \u001b[39mfrom\u001b[39;00m \u001b[39mtorch_geometric\u001b[39;00m \u001b[39mimport\u001b[39;00m \u001b[39mcompile\u001b[39m\n\u001b[1;32m     17\u001b[0m \u001b[39mfrom\u001b[39;00m \u001b[39mtorch_geometric\u001b[39;00m\u001b[39m.\u001b[39;00m\u001b[39mloader\u001b[39;00m \u001b[39mimport\u001b[39;00m NeighborLoader\n\u001b[0;32m---> 19\u001b[0m \u001b[39mfrom\u001b[39;00m \u001b[39m.\u001b[39;00m\u001b[39m.\u001b[39;00m\u001b[39mutils\u001b[39;00m \u001b[39mimport\u001b[39;00m logger, validate_device, pprint, is_fitted\n\u001b[1;32m     22\u001b[0m \u001b[39mclass\u001b[39;00m \u001b[39mDetector\u001b[39;00m(ABC):\n\u001b[1;32m     23\u001b[0m \u001b[39m    \u001b[39m\u001b[39m\"\"\"Abstract class for all outlier detection algorithms.\u001b[39;00m\n\u001b[1;32m     24\u001b[0m \n\u001b[1;32m     25\u001b[0m \u001b[39m    Parameters\u001b[39;00m\n\u001b[0;32m   (...)\u001b[0m\n\u001b[1;32m     51\u001b[0m \u001b[39m        ``threshold_`` on ``decision_score_``.\u001b[39;00m\n\u001b[1;32m     52\u001b[0m \u001b[39m    \"\"\"\u001b[39;00m\n",
            "File \u001b[0;32m~/miniconda3/envs/gnn/lib/python3.10/site-packages/pygod/utils/__init__.py:1\u001b[0m\n\u001b[0;32m----> 1\u001b[0m \u001b[39mfrom\u001b[39;00m \u001b[39m.\u001b[39;00m\u001b[39mutility\u001b[39;00m \u001b[39mimport\u001b[39;00m \u001b[39m*\u001b[39m\n\u001b[1;32m      2\u001b[0m \u001b[39mfrom\u001b[39;00m \u001b[39m.\u001b[39;00m\u001b[39mscore_converter\u001b[39;00m \u001b[39mimport\u001b[39;00m \u001b[39m*\u001b[39m\n",
            "File \u001b[0;32m~/miniconda3/envs/gnn/lib/python3.10/site-packages/pygod/utils/utility.py:11\u001b[0m\n\u001b[1;32m      9\u001b[0m \u001b[39mimport\u001b[39;00m \u001b[39mshutil\u001b[39;00m\n\u001b[1;32m     10\u001b[0m \u001b[39mimport\u001b[39;00m \u001b[39mnumbers\u001b[39;00m\n\u001b[0;32m---> 11\u001b[0m \u001b[39mimport\u001b[39;00m \u001b[39mrequests\u001b[39;00m\n\u001b[1;32m     12\u001b[0m \u001b[39mimport\u001b[39;00m \u001b[39mwarnings\u001b[39;00m\n\u001b[1;32m     13\u001b[0m \u001b[39mimport\u001b[39;00m \u001b[39mnumpy\u001b[39;00m \u001b[39mas\u001b[39;00m \u001b[39mnp\u001b[39;00m\n",
            "File \u001b[0;32m~/miniconda3/envs/gnn/lib/python3.10/site-packages/requests/__init__.py:48\u001b[0m\n\u001b[1;32m     45\u001b[0m \u001b[39mfrom\u001b[39;00m \u001b[39m.\u001b[39;00m\u001b[39mexceptions\u001b[39;00m \u001b[39mimport\u001b[39;00m RequestsDependencyWarning\n\u001b[1;32m     47\u001b[0m \u001b[39mtry\u001b[39;00m:\n\u001b[0;32m---> 48\u001b[0m     \u001b[39mfrom\u001b[39;00m \u001b[39mcharset_normalizer\u001b[39;00m \u001b[39mimport\u001b[39;00m __version__ \u001b[39mas\u001b[39;00m charset_normalizer_version\n\u001b[1;32m     49\u001b[0m \u001b[39mexcept\u001b[39;00m \u001b[39mImportError\u001b[39;00m:\n\u001b[1;32m     50\u001b[0m     charset_normalizer_version \u001b[39m=\u001b[39m \u001b[39mNone\u001b[39;00m\n",
            "File \u001b[0;32m~/miniconda3/envs/gnn/lib/python3.10/site-packages/charset_normalizer/__init__.py:23\u001b[0m\n\u001b[1;32m      1\u001b[0m \u001b[39m\"\"\"\u001b[39;00m\n\u001b[1;32m      2\u001b[0m \u001b[39mCharset-Normalizer\u001b[39;00m\n\u001b[1;32m      3\u001b[0m \u001b[39m~~~~~~~~~~~~~~\u001b[39;00m\n\u001b[0;32m   (...)\u001b[0m\n\u001b[1;32m     21\u001b[0m \u001b[39m:license: MIT, see LICENSE for more details.\u001b[39;00m\n\u001b[1;32m     22\u001b[0m \u001b[39m\"\"\"\u001b[39;00m\n\u001b[0;32m---> 23\u001b[0m \u001b[39mfrom\u001b[39;00m \u001b[39mcharset_normalizer\u001b[39;00m\u001b[39m.\u001b[39;00m\u001b[39mapi\u001b[39;00m \u001b[39mimport\u001b[39;00m from_fp, from_path, from_bytes, normalize\n\u001b[1;32m     24\u001b[0m \u001b[39mfrom\u001b[39;00m \u001b[39mcharset_normalizer\u001b[39;00m\u001b[39m.\u001b[39;00m\u001b[39mlegacy\u001b[39;00m \u001b[39mimport\u001b[39;00m detect\n\u001b[1;32m     25\u001b[0m \u001b[39mfrom\u001b[39;00m \u001b[39mcharset_normalizer\u001b[39;00m\u001b[39m.\u001b[39;00m\u001b[39mversion\u001b[39;00m \u001b[39mimport\u001b[39;00m __version__, VERSION\n",
            "File \u001b[0;32m~/miniconda3/envs/gnn/lib/python3.10/site-packages/charset_normalizer/api.py:10\u001b[0m\n\u001b[1;32m      7\u001b[0m     PathLike \u001b[39m=\u001b[39m Union[\u001b[39mstr\u001b[39m, \u001b[39m'\u001b[39m\u001b[39mos.PathLike[str]\u001b[39m\u001b[39m'\u001b[39m]  \u001b[39m# type: ignore\u001b[39;00m\n\u001b[1;32m      9\u001b[0m \u001b[39mfrom\u001b[39;00m \u001b[39mcharset_normalizer\u001b[39;00m\u001b[39m.\u001b[39;00m\u001b[39mconstant\u001b[39;00m \u001b[39mimport\u001b[39;00m TOO_SMALL_SEQUENCE, TOO_BIG_SEQUENCE, IANA_SUPPORTED\n\u001b[0;32m---> 10\u001b[0m \u001b[39mfrom\u001b[39;00m \u001b[39mcharset_normalizer\u001b[39;00m\u001b[39m.\u001b[39;00m\u001b[39mmd\u001b[39;00m \u001b[39mimport\u001b[39;00m mess_ratio\n\u001b[1;32m     11\u001b[0m \u001b[39mfrom\u001b[39;00m \u001b[39mcharset_normalizer\u001b[39;00m\u001b[39m.\u001b[39;00m\u001b[39mmodels\u001b[39;00m \u001b[39mimport\u001b[39;00m CharsetMatches, CharsetMatch\n\u001b[1;32m     12\u001b[0m \u001b[39mfrom\u001b[39;00m \u001b[39mwarnings\u001b[39;00m \u001b[39mimport\u001b[39;00m warn\n",
            "\u001b[0;31mAttributeError\u001b[0m: partially initialized module 'charset_normalizer' has no attribute 'md__mypyc' (most likely due to a circular import)"
          ]
        }
      ],
      "source": [
        "import torch\n",
        "from pygod.generator import gen_contextual_outlier, gen_structural_outlier\n",
        "\n",
        "data, ya = gen_contextual_outlier(data, n=100, k=50)\n",
        "data, ys = gen_structural_outlier(data, m=10, n=10)\n",
        "data.y = torch.logical_or(ys, ya).long()"
      ]
    },
    {
      "cell_type": "markdown",
      "metadata": {},
      "source": [
        "We also provide various type of built-in datasets. You can load them\n",
        "by passing the name of the dataset to ``load_data`` function.\n",
        "See [data repository](https://github.com/pygod-team/data)_\n",
        "for more details.\n",
        "\n"
      ]
    },
    {
      "cell_type": "code",
      "execution_count": null,
      "metadata": {
        "collapsed": false
      },
      "outputs": [],
      "source": [
        "from pygod.utils import load_data\n",
        "\n",
        "data = load_data('inj_cora')\n",
        "data.y = data.y.bool()"
      ]
    },
    {
      "cell_type": "markdown",
      "metadata": {},
      "source": [
        "## Initialization\n",
        "You can use any detector by simply initializing without passing any\n",
        "arguments. Default hyperparameters are ready for you. Of course, you\n",
        "can also customize the parameters by passing arguments. Here, we use\n",
        "``pygod.detector.DOMINANT`` as an example.\n",
        "\n"
      ]
    },
    {
      "cell_type": "code",
      "execution_count": null,
      "metadata": {
        "collapsed": false
      },
      "outputs": [],
      "source": [
        "from pygod.detector import DOMINANT\n",
        "\n",
        "detector = DOMINANT(hid_dim=64, num_layers=4, epoch=100)"
      ]
    },
    {
      "cell_type": "markdown",
      "metadata": {},
      "source": [
        "## Training\n",
        "To train the detector with the loaded data, simply feed the\n",
        "``torch_geometric.data.Data`` object into the detector via ``fit``.\n",
        "\n"
      ]
    },
    {
      "cell_type": "code",
      "execution_count": null,
      "metadata": {
        "collapsed": false
      },
      "outputs": [],
      "source": [
        "detector.fit(data)"
      ]
    },
    {
      "cell_type": "markdown",
      "metadata": {},
      "source": [
        "## Inference\n",
        "After training, the detector is ready to use. You can use the detector\n",
        "to predict the labels, raw outlier scores, probability of the\n",
        "outlierness, and prediction confidence. Here, we use the loaded data\n",
        "as an example.\n",
        "\n"
      ]
    },
    {
      "cell_type": "code",
      "execution_count": null,
      "metadata": {
        "collapsed": false
      },
      "outputs": [],
      "source": [
        "pred, score, prob, conf = detector.predict(data,\n",
        "                                           return_pred=True,\n",
        "                                           return_score=True,\n",
        "                                           return_prob=True,\n",
        "                                           return_conf=True)\n",
        "print('Labels:')\n",
        "print(pred)\n",
        "\n",
        "print('Raw scores:')\n",
        "print(score)\n",
        "\n",
        "print('Probability:')\n",
        "print(prob)\n",
        "\n",
        "print('Confidence:')\n",
        "print(conf)"
      ]
    },
    {
      "cell_type": "markdown",
      "metadata": {},
      "source": [
        "## Evaluation\n",
        "To evaluate the performance outlier detector with AUC score, you can:\n",
        "\n"
      ]
    },
    {
      "cell_type": "code",
      "execution_count": null,
      "metadata": {
        "collapsed": false
      },
      "outputs": [],
      "source": [
        "from pygod.metric import eval_roc_auc\n",
        "\n",
        "auc_score = eval_roc_auc(data.y, score)\n",
        "print('AUC Score:', auc_score)"
      ]
    }
  ],
  "metadata": {
    "kernelspec": {
      "display_name": "Python 3",
      "language": "python",
      "name": "python3"
    },
    "language_info": {
      "codemirror_mode": {
        "name": "ipython",
        "version": 3
      },
      "file_extension": ".py",
      "mimetype": "text/x-python",
      "name": "python",
      "nbconvert_exporter": "python",
      "pygments_lexer": "ipython3",
      "version": "3.10.12"
    }
  },
  "nbformat": 4,
  "nbformat_minor": 0
}
